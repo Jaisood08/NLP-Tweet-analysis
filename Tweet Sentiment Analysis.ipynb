{
 "cells": [
  {
   "cell_type": "markdown",
   "metadata": {},
   "source": [
    "Important Packages"
   ]
  },
  {
   "cell_type": "code",
   "execution_count": 1,
   "metadata": {},
   "outputs": [],
   "source": [
    "import nltk\n",
    "# nltk.download('punkt') # required for tokenization\n",
    "# nltk.download('stopwords') # required for Stopword Removal\n",
    "# nltk.download('wordnet')  # required for Lematization"
   ]
  },
  {
   "cell_type": "code",
   "execution_count": 2,
   "metadata": {},
   "outputs": [
    {
     "data": {
      "text/plain": [
       "'D:\\\\EDUCATION\\\\EDU\\\\SEM 6\\\\NLP'"
      ]
     },
     "execution_count": 2,
     "metadata": {},
     "output_type": "execute_result"
    }
   ],
   "source": [
    "import os\n",
    "cwd = os.getcwd()\n",
    "cwd"
   ]
  },
  {
   "cell_type": "markdown",
   "metadata": {},
   "source": [
    "Getting Training Data"
   ]
  },
  {
   "cell_type": "code",
   "execution_count": 3,
   "metadata": {},
   "outputs": [
    {
     "name": "stdout",
     "output_type": "stream",
     "text": [
      "./+//httpsen.wikipedia.orgwikiKumbh_Mela.txt\n",
      "./+//httpsindianexpress.comarticleexplainedkumbh-mela-2021-mythology-preparations-coronavirus-haridwar-6719596.txt\n",
      "./+//httpswww.britannica.comtopicKumbh-Mela.txt\n",
      "./+//httpswww.fortuneindia.compolemicistwhy-the-kumbh-mela-is-an-economic-blessing102900.txt\n",
      "./+//httpswww.tourmyindia.comkumbhmela.txt\n",
      "-------------------------------\n",
      "./-//httpsthewire.ingovernmentkumbh-2021-astrology-mortality-and-the-indifference-to-life-of-leaders-and-stars.txt\n",
      "./-//httpstimesofindia.indiatimes.comcitydehradunnearly-1300-test-covid-positive-at-kumbh-in-3-days-14-lakh-take-part-in-3rd-shahi-snanarticleshowprint82074940.cms.txt\n",
      "./-//httpswww.bbc.comnewsworld-asia-india-56770460.txt\n",
      "./-//httpswww.freepressjournal.invirala-sea-of-followers-at-kumbh-mela-twitteratis-feud-over-corona-politics-continues.txt\n",
      "./-//httpswww.sciencedirect.comsciencearticlepiiS1198743X14001074.txt\n"
     ]
    }
   ],
   "source": [
    "Dir = cwd+\"\\\\DATA\\\\\"\n",
    "\n",
    "def READ(K):\n",
    "    C = []\n",
    "    os.chdir(Dir)\n",
    "    for files in os.walk(\"./\"+K):\n",
    "        for filename in files:\n",
    "            C.append(filename)\n",
    "    C = C[2]\n",
    "    Corpus = []\n",
    "    for i in C:\n",
    "        file = \"./\"+K+\"//\"+i\n",
    "        print(file)\n",
    "        f = open(file,'r',encoding=\"utf8\")\n",
    "        T = f.read()\n",
    "        Corpus.append(T)\n",
    "    os.chdir(cwd)\n",
    "    return Corpus\n",
    "POS = READ(\"+\");\n",
    "print(\"-------------------------------\")\n",
    "NEG = READ(\"-\");"
   ]
  },
  {
   "cell_type": "code",
   "execution_count": 4,
   "metadata": {},
   "outputs": [],
   "source": [
    "from nltk.tokenize import word_tokenize\n",
    "from nltk.corpus import stopwords\n",
    "from nltk.corpus import wordnet\n",
    "from nltk.stem import PorterStemmer\n",
    "from nltk.stem import WordNetLemmatizer"
   ]
  },
  {
   "cell_type": "markdown",
   "metadata": {},
   "source": [
    "Pre Processing "
   ]
  },
  {
   "cell_type": "code",
   "execution_count": 5,
   "metadata": {},
   "outputs": [],
   "source": [
    "def PREPRO(Corpus):\n",
    "    # 1. Normalization\n",
    "    lower_corpus = []\n",
    "    Normalized_corpus = []\n",
    "\n",
    "    for i in range(len(Corpus)):\n",
    "        lower_corpus.append(' '.join([word.lower() for word in Corpus[i].split()]))\n",
    "        \n",
    "    for i in range(len(lower_corpus)):\n",
    "        Normalized_corpus.append(' '.join([word for word in lower_corpus[i].split() if word.isalpha()]))\n",
    "        \n",
    "    # 2. Tokenization\n",
    "    tokenized_corpus = []\n",
    "    for i in range(len(Normalized_corpus)):\n",
    "        tokenized_corpus.append(word_tokenize(Normalized_corpus[i]))\n",
    "        \n",
    "    # 3. Stopword removal\n",
    "    stop=stopwords.words(fileids='english')\n",
    "    StopR_corpus = []\n",
    "\n",
    "    for i in range(len(tokenized_corpus)):\n",
    "        StopR_corpus.append([word for word in tokenized_corpus[i] if word not in stop])\n",
    "        \n",
    "    # 4. Stemming\n",
    "    ps=PorterStemmer()\n",
    "    Stemmed_corpus=[]\n",
    "    for i in range(len(StopR_corpus)):\n",
    "        Stemmed_corpus.append([ps.stem(word) for word in StopR_corpus[i]])\n",
    "        \n",
    "    # 5.Lematization\n",
    "    #Lemit =[]\n",
    "    #lemmatizer = WordNetLemmatizer()\n",
    "    #for i in range(len(Stemmed_corpus)):\n",
    "    #    Lemit.append([lemmatizer.lemmatize(word) for word in Stemmed_corpus[i]])\n",
    "    \n",
    "        \n",
    "    Corpus = []\n",
    "    for i in Stemmed_corpus:\n",
    "        Str =\"\"\n",
    "        for ele in i: \n",
    "            Str += ele+\" \"\n",
    "        Corpus.append(Str)\n",
    "        \n",
    "    return Corpus\n",
    "\n",
    "\n",
    "POS = PREPRO(POS) \n",
    "NEG = PREPRO(NEG)\n"
   ]
  },
  {
   "cell_type": "markdown",
   "metadata": {},
   "source": [
    "Forming DataSet"
   ]
  },
  {
   "cell_type": "code",
   "execution_count": 6,
   "metadata": {},
   "outputs": [],
   "source": [
    "import pandas as pd\n",
    "DATA1 = pd.DataFrame(columns=[\"Flag\",\"Article\"])\n",
    "DATA2 = pd.DataFrame(columns=[\"Flag\",\"Article\"])\n",
    "for i in POS:\n",
    "    df2 = {\"Flag\" : 1,\"Article\":i}\n",
    "    DATA1 = DATA1.append(df2,ignore_index = True)\n",
    "for i in NEG:\n",
    "    df2 = {\"Flag\" : 0,\"Article\":i}\n",
    "    DATA2 = DATA2.append(df2,ignore_index = True)\n",
    "    \n",
    "\n",
    "DATA1[\"Flag\"] = DATA1[\"Flag\"].astype('int')\n",
    "DATA2[\"Flag\"] = DATA2[\"Flag\"].astype('int')\n",
    "DATA1 = DATA1.sample(frac=1).reset_index(drop=True)\n",
    "DATA2 = DATA2.sample(frac=1).reset_index(drop=True)"
   ]
  },
  {
   "cell_type": "markdown",
   "metadata": {},
   "source": [
    "Spliting Data"
   ]
  },
  {
   "cell_type": "code",
   "execution_count": 7,
   "metadata": {},
   "outputs": [],
   "source": [
    "Train = DATA1[0:3]\n",
    "Train = Train.append(DATA2[0:3])\n",
    "Test = DATA1[3:5]\n",
    "Test = Test.append(DATA2[3:5])\n",
    "Train = Train.sample(frac=1).reset_index(drop=True)\n",
    "Test = Test.sample(frac=1).reset_index(drop=True)"
   ]
  },
  {
   "cell_type": "code",
   "execution_count": 8,
   "metadata": {},
   "outputs": [
    {
     "data": {
      "text/html": [
       "<div>\n",
       "<style scoped>\n",
       "    .dataframe tbody tr th:only-of-type {\n",
       "        vertical-align: middle;\n",
       "    }\n",
       "\n",
       "    .dataframe tbody tr th {\n",
       "        vertical-align: top;\n",
       "    }\n",
       "\n",
       "    .dataframe thead th {\n",
       "        text-align: right;\n",
       "    }\n",
       "</style>\n",
       "<table border=\"1\" class=\"dataframe\">\n",
       "  <thead>\n",
       "    <tr style=\"text-align: right;\">\n",
       "      <th></th>\n",
       "      <th>Flag</th>\n",
       "      <th>Article</th>\n",
       "    </tr>\n",
       "  </thead>\n",
       "  <tbody>\n",
       "    <tr>\n",
       "      <th>0</th>\n",
       "      <td>0</td>\n",
       "      <td>kumbh mortal indiffer life leader star kumbh h...</td>\n",
       "    </tr>\n",
       "    <tr>\n",
       "      <th>1</th>\n",
       "      <td>0</td>\n",
       "      <td>kumbh festiv attract big crowd amid devast sec...</td>\n",
       "    </tr>\n",
       "    <tr>\n",
       "      <th>2</th>\n",
       "      <td>0</td>\n",
       "      <td>nearli test covid posit kumbh lakh take part s...</td>\n",
       "    </tr>\n",
       "    <tr>\n",
       "      <th>3</th>\n",
       "      <td>1</td>\n",
       "      <td>kumbh also call kumbha religi festiv celebr fo...</td>\n",
       "    </tr>\n",
       "    <tr>\n",
       "      <th>4</th>\n",
       "      <td>1</td>\n",
       "      <td>kumbh mela econom bless kumbh mela tremend boo...</td>\n",
       "    </tr>\n",
       "    <tr>\n",
       "      <th>5</th>\n",
       "      <td>1</td>\n",
       "      <td>kumbh mela kumbha mela major pilgrimag festiv ...</td>\n",
       "    </tr>\n",
       "  </tbody>\n",
       "</table>\n",
       "</div>"
      ],
      "text/plain": [
       "   Flag                                            Article\n",
       "0     0  kumbh mortal indiffer life leader star kumbh h...\n",
       "1     0  kumbh festiv attract big crowd amid devast sec...\n",
       "2     0  nearli test covid posit kumbh lakh take part s...\n",
       "3     1  kumbh also call kumbha religi festiv celebr fo...\n",
       "4     1  kumbh mela econom bless kumbh mela tremend boo...\n",
       "5     1  kumbh mela kumbha mela major pilgrimag festiv ..."
      ]
     },
     "execution_count": 8,
     "metadata": {},
     "output_type": "execute_result"
    }
   ],
   "source": [
    "Train "
   ]
  },
  {
   "cell_type": "markdown",
   "metadata": {},
   "source": [
    "Extracting Features"
   ]
  },
  {
   "cell_type": "code",
   "execution_count": 9,
   "metadata": {},
   "outputs": [
    {
     "name": "stdout",
     "output_type": "stream",
     "text": [
      "(6, 6258)\n"
     ]
    },
    {
     "data": {
      "text/html": [
       "<div>\n",
       "<style scoped>\n",
       "    .dataframe tbody tr th:only-of-type {\n",
       "        vertical-align: middle;\n",
       "    }\n",
       "\n",
       "    .dataframe tbody tr th {\n",
       "        vertical-align: top;\n",
       "    }\n",
       "\n",
       "    .dataframe thead th {\n",
       "        text-align: right;\n",
       "    }\n",
       "</style>\n",
       "<table border=\"1\" class=\"dataframe\">\n",
       "  <thead>\n",
       "    <tr style=\"text-align: right;\">\n",
       "      <th></th>\n",
       "      <th>abl</th>\n",
       "      <th>abl instruct</th>\n",
       "      <th>abl visual</th>\n",
       "      <th>abolish</th>\n",
       "      <th>abolish pilgrim</th>\n",
       "      <th>abstain</th>\n",
       "      <th>abstain elabor</th>\n",
       "      <th>academi</th>\n",
       "      <th>academi ikono</th>\n",
       "      <th>access</th>\n",
       "      <th>...</th>\n",
       "      <th>yogic practic</th>\n",
       "      <th>young</th>\n",
       "      <th>young sibl</th>\n",
       "      <th>yudhisthira</th>\n",
       "      <th>yudhisthira state</th>\n",
       "      <th>zodiac</th>\n",
       "      <th>zodiac jupit</th>\n",
       "      <th>zodiac posit</th>\n",
       "      <th>zodiac sign</th>\n",
       "      <th>zodiac word</th>\n",
       "    </tr>\n",
       "  </thead>\n",
       "  <tbody>\n",
       "    <tr>\n",
       "      <th>0</th>\n",
       "      <td>0</td>\n",
       "      <td>0</td>\n",
       "      <td>0</td>\n",
       "      <td>0</td>\n",
       "      <td>0</td>\n",
       "      <td>0</td>\n",
       "      <td>0</td>\n",
       "      <td>0</td>\n",
       "      <td>0</td>\n",
       "      <td>0</td>\n",
       "      <td>...</td>\n",
       "      <td>0</td>\n",
       "      <td>0</td>\n",
       "      <td>0</td>\n",
       "      <td>0</td>\n",
       "      <td>0</td>\n",
       "      <td>0</td>\n",
       "      <td>0</td>\n",
       "      <td>0</td>\n",
       "      <td>0</td>\n",
       "      <td>0</td>\n",
       "    </tr>\n",
       "    <tr>\n",
       "      <th>1</th>\n",
       "      <td>0</td>\n",
       "      <td>0</td>\n",
       "      <td>0</td>\n",
       "      <td>0</td>\n",
       "      <td>0</td>\n",
       "      <td>0</td>\n",
       "      <td>0</td>\n",
       "      <td>0</td>\n",
       "      <td>0</td>\n",
       "      <td>0</td>\n",
       "      <td>...</td>\n",
       "      <td>0</td>\n",
       "      <td>0</td>\n",
       "      <td>0</td>\n",
       "      <td>0</td>\n",
       "      <td>0</td>\n",
       "      <td>0</td>\n",
       "      <td>0</td>\n",
       "      <td>0</td>\n",
       "      <td>0</td>\n",
       "      <td>0</td>\n",
       "    </tr>\n",
       "    <tr>\n",
       "      <th>2</th>\n",
       "      <td>0</td>\n",
       "      <td>0</td>\n",
       "      <td>0</td>\n",
       "      <td>0</td>\n",
       "      <td>0</td>\n",
       "      <td>0</td>\n",
       "      <td>0</td>\n",
       "      <td>0</td>\n",
       "      <td>0</td>\n",
       "      <td>0</td>\n",
       "      <td>...</td>\n",
       "      <td>0</td>\n",
       "      <td>0</td>\n",
       "      <td>0</td>\n",
       "      <td>0</td>\n",
       "      <td>0</td>\n",
       "      <td>0</td>\n",
       "      <td>0</td>\n",
       "      <td>0</td>\n",
       "      <td>0</td>\n",
       "      <td>0</td>\n",
       "    </tr>\n",
       "    <tr>\n",
       "      <th>3</th>\n",
       "      <td>0</td>\n",
       "      <td>0</td>\n",
       "      <td>0</td>\n",
       "      <td>0</td>\n",
       "      <td>0</td>\n",
       "      <td>0</td>\n",
       "      <td>0</td>\n",
       "      <td>0</td>\n",
       "      <td>0</td>\n",
       "      <td>0</td>\n",
       "      <td>...</td>\n",
       "      <td>0</td>\n",
       "      <td>0</td>\n",
       "      <td>0</td>\n",
       "      <td>0</td>\n",
       "      <td>0</td>\n",
       "      <td>1</td>\n",
       "      <td>1</td>\n",
       "      <td>0</td>\n",
       "      <td>0</td>\n",
       "      <td>0</td>\n",
       "    </tr>\n",
       "    <tr>\n",
       "      <th>4</th>\n",
       "      <td>0</td>\n",
       "      <td>0</td>\n",
       "      <td>0</td>\n",
       "      <td>0</td>\n",
       "      <td>0</td>\n",
       "      <td>0</td>\n",
       "      <td>0</td>\n",
       "      <td>0</td>\n",
       "      <td>0</td>\n",
       "      <td>0</td>\n",
       "      <td>...</td>\n",
       "      <td>0</td>\n",
       "      <td>0</td>\n",
       "      <td>0</td>\n",
       "      <td>0</td>\n",
       "      <td>0</td>\n",
       "      <td>0</td>\n",
       "      <td>0</td>\n",
       "      <td>0</td>\n",
       "      <td>0</td>\n",
       "      <td>0</td>\n",
       "    </tr>\n",
       "    <tr>\n",
       "      <th>5</th>\n",
       "      <td>2</td>\n",
       "      <td>1</td>\n",
       "      <td>1</td>\n",
       "      <td>1</td>\n",
       "      <td>1</td>\n",
       "      <td>1</td>\n",
       "      <td>1</td>\n",
       "      <td>1</td>\n",
       "      <td>1</td>\n",
       "      <td>1</td>\n",
       "      <td>...</td>\n",
       "      <td>1</td>\n",
       "      <td>1</td>\n",
       "      <td>1</td>\n",
       "      <td>1</td>\n",
       "      <td>1</td>\n",
       "      <td>3</td>\n",
       "      <td>0</td>\n",
       "      <td>1</td>\n",
       "      <td>1</td>\n",
       "      <td>1</td>\n",
       "    </tr>\n",
       "  </tbody>\n",
       "</table>\n",
       "<p>6 rows × 6258 columns</p>\n",
       "</div>"
      ],
      "text/plain": [
       "   abl  abl instruct  abl visual  abolish  abolish pilgrim  abstain  \\\n",
       "0    0             0           0        0                0        0   \n",
       "1    0             0           0        0                0        0   \n",
       "2    0             0           0        0                0        0   \n",
       "3    0             0           0        0                0        0   \n",
       "4    0             0           0        0                0        0   \n",
       "5    2             1           1        1                1        1   \n",
       "\n",
       "   abstain elabor  academi  academi ikono  access  ...  yogic practic  young  \\\n",
       "0               0        0              0       0  ...              0      0   \n",
       "1               0        0              0       0  ...              0      0   \n",
       "2               0        0              0       0  ...              0      0   \n",
       "3               0        0              0       0  ...              0      0   \n",
       "4               0        0              0       0  ...              0      0   \n",
       "5               1        1              1       1  ...              1      1   \n",
       "\n",
       "   young sibl  yudhisthira  yudhisthira state  zodiac  zodiac jupit  \\\n",
       "0           0            0                  0       0             0   \n",
       "1           0            0                  0       0             0   \n",
       "2           0            0                  0       0             0   \n",
       "3           0            0                  0       1             1   \n",
       "4           0            0                  0       0             0   \n",
       "5           1            1                  1       3             0   \n",
       "\n",
       "   zodiac posit  zodiac sign  zodiac word  \n",
       "0             0            0            0  \n",
       "1             0            0            0  \n",
       "2             0            0            0  \n",
       "3             0            0            0  \n",
       "4             0            0            0  \n",
       "5             1            1            1  \n",
       "\n",
       "[6 rows x 6258 columns]"
      ]
     },
     "execution_count": 9,
     "metadata": {},
     "output_type": "execute_result"
    }
   ],
   "source": [
    "# from sklearn.feature_extraction.text import TfidfVectorizer\n",
    "# cv = TfidfVectorizer(ngram_range=(1,2))\n",
    "from sklearn.feature_extraction.text import CountVectorizer\n",
    "cv = CountVectorizer(ngram_range=(1,2))\n",
    "traindataset = cv.fit_transform(Train[\"Article\"])\n",
    "N = cv.get_feature_names()\n",
    "X = traindataset\n",
    "BOW = pd.DataFrame(X.toarray(),columns=N)\n",
    "print(BOW.shape)\n",
    "BOW "
   ]
  },
  {
   "cell_type": "markdown",
   "metadata": {},
   "source": [
    "Making A random Forest Model and Testing Data"
   ]
  },
  {
   "cell_type": "code",
   "execution_count": 10,
   "metadata": {},
   "outputs": [],
   "source": [
    "from sklearn.ensemble import RandomForestClassifier\n",
    "from sklearn.metrics import classification_report,confusion_matrix,accuracy_score"
   ]
  },
  {
   "cell_type": "code",
   "execution_count": 11,
   "metadata": {},
   "outputs": [],
   "source": [
    "Mscore = 0\n",
    "BK = 0 \n",
    "SK = []\n",
    "SS = []\n",
    "for K in range (100,1001,50):\n",
    "    Trandomclassifier=RandomForestClassifier(n_estimators=K,criterion='entropy')\n",
    "    Trandomclassifier.fit(traindataset,Train[\"Flag\"])\n",
    "    test_dataset = cv.transform(Test[\"Article\"])\n",
    "    Tpredictions = Trandomclassifier.predict(test_dataset)\n",
    "    score = accuracy_score(Test[\"Flag\"],Tpredictions)\n",
    "    SK.append(K)\n",
    "    SS.append(score)\n",
    "    if(Mscore < score):\n",
    "        BK = K\n",
    "        Mscore = score\n",
    "        predictions = Tpredictions\n",
    "        randomclassifier = Trandomclassifier"
   ]
  },
  {
   "cell_type": "code",
   "execution_count": 12,
   "metadata": {},
   "outputs": [
    {
     "data": {
      "image/png": "[encoded data removed]",
      "text/plain": [
       "<Figure size 432x288 with 1 Axes>"
      ]
     },
     "metadata": {
      "needs_background": "light"
     },
     "output_type": "display_data"
    },
    {
     "name": "stdout",
     "output_type": "stream",
     "text": [
      "No of Estimators taken :  350\n"
     ]
    }
   ],
   "source": [
    "import matplotlib.pyplot as plt \n",
    "plt.plot(SK,SS)\n",
    "plt.title('Training Model')\n",
    "plt.xlabel('No of Estimators')\n",
    "plt.ylabel('Accuracy')\n",
    "plt.show()\n",
    "print('No of Estimators taken : ',BK)"
   ]
  },
  {
   "cell_type": "markdown",
   "metadata": {},
   "source": [
    "RESULTS"
   ]
  },
  {
   "cell_type": "code",
   "execution_count": 13,
   "metadata": {
    "scrolled": true
   },
   "outputs": [
    {
     "name": "stdout",
     "output_type": "stream",
     "text": [
      "[[2 0]\n",
      " [1 1]]\n",
      "________________________________\n",
      "Accuracy_score :  0.75\n",
      "________________________________\n",
      "              precision    recall  f1-score   support\n",
      "\n",
      "           0       0.67      1.00      0.80         2\n",
      "           1       1.00      0.50      0.67         2\n",
      "\n",
      "    accuracy                           0.75         4\n",
      "   macro avg       0.83      0.75      0.73         4\n",
      "weighted avg       0.83      0.75      0.73         4\n",
      "\n"
     ]
    }
   ],
   "source": [
    "matrix=confusion_matrix(Test[\"Flag\"],predictions)\n",
    "print(matrix)\n",
    "print(\"________________________________\")\n",
    "score=accuracy_score(Test[\"Flag\"],predictions)\n",
    "print(\"Accuracy_score : \",score)\n",
    "print(\"________________________________\")\n",
    "report=classification_report(Test[\"Flag\"],predictions)\n",
    "print(report)"
   ]
  },
  {
   "cell_type": "code",
   "execution_count": 14,
   "metadata": {},
   "outputs": [
    {
     "data": {
      "image/png": "[encoded data removed]",
      "text/plain": [
       "<Figure size 432x288 with 2 Axes>"
      ]
     },
     "metadata": {
      "needs_background": "light"
     },
     "output_type": "display_data"
    }
   ],
   "source": [
    "from sklearn.metrics import plot_confusion_matrix\n",
    "plot_confusion_matrix(randomclassifier, test_dataset, Test[\"Flag\"])  \n",
    "plt.show() "
   ]
  },
  {
   "cell_type": "markdown",
   "metadata": {},
   "source": [
    "APPLICATION ON TWEET ANALYSIS"
   ]
  },
  {
   "cell_type": "code",
   "execution_count": 15,
   "metadata": {},
   "outputs": [
    {
     "name": "stderr",
     "output_type": "stream",
     "text": [
      "pywebcopy.configs - INFO     - Got response 200 from https://twitter.com/robots.txt\n",
      "C:\\Users\\Public\\anaconda3\\lib\\site-packages\\pywebcopy\\webpage.py:84: UserWarning: Global Configuration is not setup. You can ignore this if you are going manual.This is just one time warning regarding some unexpected behavior.\n",
      "  \"Global Configuration is not setup. You can ignore this if you are going manual.\"\n",
      "pywebcopy.configs - INFO     - Got response 200 from https://twitter.com/search?q=kumbh%20mela&src=typed_query\n",
      "webpage    - INFO     - Starting save_complete Action on url: ['https://twitter.com/search?q=kumbh%20mela&src=typed_query']\n",
      "parsers    - INFO     - Parsing tree with source: <<urllib3.response.HTTPResponse object at 0x000002C1D931FF08>> encoding <utf-8> and parser <<lxml.etree.HTMLParser object at 0x000002C1D92F4408>>\n",
      "webpage    - INFO     - Starting save_assets Action on url: 'https://twitter.com/search?q=kumbh mela&src=typed_query'\n",
      "webpage    - Level 100 - Queueing download of <272> asset files.\n",
      "elements   - INFO     - File already exists at location: ['D:\\\\EDUCATION\\\\EDU\\\\SEM 6\\\\NLP\\\\Tweet Analysis\\\\abs.twimg.com\\\\a\\\\1619806816\\\\css\\\\t1\\\\633d2f68__twitter_core.bundle.css']\n",
      "elements   - INFO     - File already exists at location: ['D:\\\\EDUCATION\\\\EDU\\\\SEM 6\\\\NLP\\\\Tweet Analysis\\\\abs.twimg.com\\\\a\\\\1619806816\\\\css\\\\t1\\\\43ace7b0__twitter_more_1.bundle.css']\n",
      "elements   - INFO     - File already exists at location: ['D:\\\\EDUCATION\\\\EDU\\\\SEM 6\\\\NLP\\\\Tweet Analysis\\\\abs.twimg.com\\\\a\\\\1619806816\\\\css\\\\t1\\\\048c0f46__twitter_more_2.bundle.css']\n",
      "elements   - INFO     - File already exists at location: ['D:\\\\EDUCATION\\\\EDU\\\\SEM 6\\\\NLP\\\\Tweet Analysis\\\\t.co\\\\file_d8c3764d.pwc']\n",
      "webpage    - INFO     - Starting save_html Action on url: 'https://twitter.com/search?q=kumbh mela&src=typed_query'\n",
      "webpage    - INFO     - WebPage saved successfully to D:\\EDUCATION\\EDU\\SEM 6\\NLP\\Tweet Analysis\\twitter.com\\4845791a__search.html\n",
      "pywebcopy.configs - INFO     - Got response 200 from https://abs.twimg.com/k/en/init.en.7fd5339f3d07ef3472c4.js\n",
      "elements   - INFO     - Writing file at location D:\\EDUCATION\\EDU\\SEM 6\\NLP\\Tweet Analysis\\abs.twimg.com\\k\\en\\9687ddb8__init.en.7fd5339f3d07ef3472c4.js\n",
      "elements   - INFO     - File of type .js written successfully to D:\\EDUCATION\\EDU\\SEM 6\\NLP\\Tweet Analysis\\abs.twimg.com\\k\\en\\9687ddb8__init.en.7fd5339f3d07ef3472c4.js\n",
      "elements   - INFO     - File already exists at location: 'D:\\\\EDUCATION\\\\EDU\\\\SEM 6\\\\NLP\\\\Tweet Analysis\\\\abs.twimg.com\\\\emoji\\\\v2\\\\72x72\\\\e03432b4__1f37a.png'\n",
      "pywebcopy.configs - INFO     - Got response 200 from https://abs.twimg.com/k/en/init.en.7fd5339f3d07ef3472c4.js\n",
      "elements   - INFO     - [8] CSS linked files are found in file [D:\\EDUCATION\\EDU\\SEM 6\\NLP\\Tweet Analysis\\abs.twimg.com\\k\\en\\9687ddb8__init.en.7fd5339f3d07ef3472c4.js]\n",
      "elements   - INFO     - File already exists at location: 'D:\\\\EDUCATION\\\\EDU\\\\SEM 6\\\\NLP\\\\Tweet Analysis\\\\abs.twimg.com\\\\k\\\\en\\\\9687ddb8__init.en.7fd5339f3d07ef3472c4.js'\n"
     ]
    }
   ],
   "source": [
    "from pywebcopy import save_webpage\n",
    "import time\n",
    "import threading\n",
    "\n",
    "url = 'https://twitter.com/search?q=kumbh%20mela&src=typed_query'\n",
    "download_folder = cwd    \n",
    "kwargs = {'bypass_robots': True, 'project_name': 'Tweet Analysis'}\n",
    "\n",
    "def DOWN():\n",
    "    save_webpage(url, download_folder, **kwargs)\n",
    "\n",
    "\n",
    "t = threading.Thread(target=DOWN)\n",
    "t.daemon = True\n",
    "t.start()\n",
    "\n",
    "time.sleep(20)"
   ]
  },
  {
   "cell_type": "code",
   "execution_count": 16,
   "metadata": {},
   "outputs": [
    {
     "data": {
      "text/plain": [
       "'4845791a__search.html'"
      ]
     },
     "execution_count": 16,
     "metadata": {},
     "output_type": "execute_result"
    }
   ],
   "source": [
    "file = cwd+'\\\\Tweet Analysis\\\\twitter.com'\n",
    "C = []\n",
    "for files in os.walk(file):\n",
    "    for filename in files:\n",
    "        C.append(filename)\n",
    "C = C[2][0]\n",
    "C"
   ]
  },
  {
   "cell_type": "code",
   "execution_count": 17,
   "metadata": {},
   "outputs": [],
   "source": [
    "from bs4 import BeautifulSoup\n",
    "os.chdir(file)\n",
    "response =  open(C)\n",
    "Data = response.read()\n",
    "response.close()\n",
    "os.chdir(cwd)\n",
    "soup = BeautifulSoup(Data, 'html.parser')"
   ]
  },
  {
   "cell_type": "code",
   "execution_count": 18,
   "metadata": {
    "scrolled": true
   },
   "outputs": [
    {
     "name": "stdout",
     "output_type": "stream",
     "text": [
      "Total Fetched Tweets in English :  20\n"
     ]
    }
   ],
   "source": [
    "tweets = soup.find_all(\"p\",{\"class\": \"TweetTextSize js-tweet-text tweet-text\",\"lang\": \"en\"})\n",
    "Tweet = []\n",
    "for T in tweets:\n",
    "    Tweet.append(T.text)\n",
    "print(\"Total Fetched Tweets in English : \",len(Tweet))"
   ]
  },
  {
   "cell_type": "code",
   "execution_count": 19,
   "metadata": {},
   "outputs": [
    {
     "name": "stdout",
     "output_type": "stream",
     "text": [
      "For Rahul ji \n",
      "\n",
      "Kumbh Mela = Corona positive \n",
      "\n",
      "Bengal rallies = Corona positive \n",
      "\n",
      "But \n",
      "\n",
      "Kisan andolan jeevis on Delhi borders & Punjab = Corona proof \n",
      "\n",
      "Rallies in Ajmer to demand beheading = Corona proof\n",
      "\n",
      "Funeral gathering for father of Mohd Saleh R’than minister = Corona proof pic.twitter.com/Z62IEEmLOT\n"
     ]
    }
   ],
   "source": [
    "print(Tweet[4])"
   ]
  },
  {
   "cell_type": "code",
   "execution_count": 20,
   "metadata": {},
   "outputs": [],
   "source": [
    "ATweet = Tweet"
   ]
  },
  {
   "cell_type": "code",
   "execution_count": 21,
   "metadata": {},
   "outputs": [],
   "source": [
    "Tweet = PREPRO(Tweet)"
   ]
  },
  {
   "cell_type": "code",
   "execution_count": 22,
   "metadata": {},
   "outputs": [],
   "source": [
    "Tweet = pd.DataFrame(Tweet,columns=[\"Tweets\"])\n",
    "ATweet = pd.DataFrame(ATweet,columns=[\"Tweets\"])"
   ]
  },
  {
   "cell_type": "code",
   "execution_count": 23,
   "metadata": {},
   "outputs": [
    {
     "data": {
      "text/html": [
       "<div>\n",
       "<style scoped>\n",
       "    .dataframe tbody tr th:only-of-type {\n",
       "        vertical-align: middle;\n",
       "    }\n",
       "\n",
       "    .dataframe tbody tr th {\n",
       "        vertical-align: top;\n",
       "    }\n",
       "\n",
       "    .dataframe thead th {\n",
       "        text-align: right;\n",
       "    }\n",
       "</style>\n",
       "<table border=\"1\" class=\"dataframe\">\n",
       "  <thead>\n",
       "    <tr style=\"text-align: right;\">\n",
       "      <th></th>\n",
       "      <th>Tweets</th>\n",
       "      <th>Predictions</th>\n",
       "    </tr>\n",
       "  </thead>\n",
       "  <tbody>\n",
       "    <tr>\n",
       "      <th>0</th>\n",
       "      <td>Hajj was banned in Saudi Arabia when deaths we...</td>\n",
       "      <td>0</td>\n",
       "    </tr>\n",
       "    <tr>\n",
       "      <th>1</th>\n",
       "      <td>Despite the 1800% increase in Uttarkhand’s act...</td>\n",
       "      <td>0</td>\n",
       "    </tr>\n",
       "    <tr>\n",
       "      <th>2</th>\n",
       "      <td>Kumbh Mela was a super spreader  just like ele...</td>\n",
       "      <td>0</td>\n",
       "    </tr>\n",
       "    <tr>\n",
       "      <th>3</th>\n",
       "      <td>This should have been biggest headline in Indi...</td>\n",
       "      <td>0</td>\n",
       "    </tr>\n",
       "    <tr>\n",
       "      <th>4</th>\n",
       "      <td>For Rahul ji \\n\\nKumbh Mela = Corona positive ...</td>\n",
       "      <td>0</td>\n",
       "    </tr>\n",
       "    <tr>\n",
       "      <th>5</th>\n",
       "      <td>Data proves beyond doubt that so called farmer...</td>\n",
       "      <td>0</td>\n",
       "    </tr>\n",
       "    <tr>\n",
       "      <th>6</th>\n",
       "      <td>first kumbh mela where the attendees might act...</td>\n",
       "      <td>0</td>\n",
       "    </tr>\n",
       "    <tr>\n",
       "      <th>7</th>\n",
       "      <td>After nine straight days of 300,000+ Covid cas...</td>\n",
       "      <td>0</td>\n",
       "    </tr>\n",
       "    <tr>\n",
       "      <th>8</th>\n",
       "      <td>Vaccination was more important than election r...</td>\n",
       "      <td>0</td>\n",
       "    </tr>\n",
       "    <tr>\n",
       "      <th>9</th>\n",
       "      <td>Poonawalla: “If I give you the right answer, o...</td>\n",
       "      <td>0</td>\n",
       "    </tr>\n",
       "    <tr>\n",
       "      <th>10</th>\n",
       "      <td>Germany cancels it’s Kumbh Mela. https://twitt...</td>\n",
       "      <td>0</td>\n",
       "    </tr>\n",
       "    <tr>\n",
       "      <th>11</th>\n",
       "      <td>IPL mai v koi KUMBH Mela/BJP ka rallies se gay...</td>\n",
       "      <td>0</td>\n",
       "    </tr>\n",
       "    <tr>\n",
       "      <th>12</th>\n",
       "      <td>Pic 1 : Today was last day of \"Shahi Snan\" at ...</td>\n",
       "      <td>0</td>\n",
       "    </tr>\n",
       "    <tr>\n",
       "      <th>13</th>\n",
       "      <td>Look, @narendramodi, Germany has canceled its ...</td>\n",
       "      <td>0</td>\n",
       "    </tr>\n",
       "    <tr>\n",
       "      <th>14</th>\n",
       "      <td>Gigantic super spreader of the year #KumbhMela...</td>\n",
       "      <td>0</td>\n",
       "    </tr>\n",
       "    <tr>\n",
       "      <th>15</th>\n",
       "      <td>Why is the Kumbh Mela universally blamed for t...</td>\n",
       "      <td>0</td>\n",
       "    </tr>\n",
       "    <tr>\n",
       "      <th>16</th>\n",
       "      <td>Kumbh Mela has a 200-year long recorded histor...</td>\n",
       "      <td>0</td>\n",
       "    </tr>\n",
       "    <tr>\n",
       "      <th>17</th>\n",
       "      <td>22 of the 83 people who returned after attendi...</td>\n",
       "      <td>0</td>\n",
       "    </tr>\n",
       "    <tr>\n",
       "      <th>18</th>\n",
       "      <td>When Germany cancels its 'Kumbh Mela'..this ha...</td>\n",
       "      <td>0</td>\n",
       "    </tr>\n",
       "    <tr>\n",
       "      <th>19</th>\n",
       "      <td>Covid spread like wild fire. Devotees take hol...</td>\n",
       "      <td>0</td>\n",
       "    </tr>\n",
       "  </tbody>\n",
       "</table>\n",
       "</div>"
      ],
      "text/plain": [
       "                                               Tweets  Predictions\n",
       "0   Hajj was banned in Saudi Arabia when deaths we...            0\n",
       "1   Despite the 1800% increase in Uttarkhand’s act...            0\n",
       "2   Kumbh Mela was a super spreader  just like ele...            0\n",
       "3   This should have been biggest headline in Indi...            0\n",
       "4   For Rahul ji \\n\\nKumbh Mela = Corona positive ...            0\n",
       "5   Data proves beyond doubt that so called farmer...            0\n",
       "6   first kumbh mela where the attendees might act...            0\n",
       "7   After nine straight days of 300,000+ Covid cas...            0\n",
       "8   Vaccination was more important than election r...            0\n",
       "9   Poonawalla: “If I give you the right answer, o...            0\n",
       "10  Germany cancels it’s Kumbh Mela. https://twitt...            0\n",
       "11  IPL mai v koi KUMBH Mela/BJP ka rallies se gay...            0\n",
       "12  Pic 1 : Today was last day of \"Shahi Snan\" at ...            0\n",
       "13  Look, @narendramodi, Germany has canceled its ...            0\n",
       "14  Gigantic super spreader of the year #KumbhMela...            0\n",
       "15  Why is the Kumbh Mela universally blamed for t...            0\n",
       "16  Kumbh Mela has a 200-year long recorded histor...            0\n",
       "17  22 of the 83 people who returned after attendi...            0\n",
       "18  When Germany cancels its 'Kumbh Mela'..this ha...            0\n",
       "19  Covid spread like wild fire. Devotees take hol...            0"
      ]
     },
     "execution_count": 23,
     "metadata": {},
     "output_type": "execute_result"
    }
   ],
   "source": [
    "test_dataset = cv.transform(Tweet[\"Tweets\"])\n",
    "predictions = randomclassifier.predict(test_dataset)\n",
    "ATweet[\"Predictions\"] = pd.DataFrame(predictions)\n",
    "ATweet"
   ]
  },
  {
   "cell_type": "code",
   "execution_count": 24,
   "metadata": {},
   "outputs": [
    {
     "data": {
      "text/plain": [
       "<20x6258 sparse matrix of type '<class 'numpy.int64'>'\n",
       "\twith 210 stored elements in Compressed Sparse Row format>"
      ]
     },
     "execution_count": 24,
     "metadata": {},
     "output_type": "execute_result"
    }
   ],
   "source": [
    "test_dataset"
   ]
  },
  {
   "cell_type": "code",
   "execution_count": 25,
   "metadata": {},
   "outputs": [
    {
     "name": "stdout",
     "output_type": "stream",
     "text": [
      "Hajj was banned in Saudi Arabia when deaths were only 350, Kumbh Mela was allowed in India when deaths were 1,60,983. \n",
      "\n",
      "Today- \n",
      "Deaths in Saudi - 6,957.\n",
      "Deaths in India - 211,835.\n",
      "_________________________________\n",
      "Sentiments =>   Negative\n",
      "_________________________________\n",
      "---------------------------------------------------------\n",
      "Despite the 1800% increase in Uttarkhand’s active COVID-19 cases in the period coinciding with the Kumbh Mela, the state government has given its green signal to hold the annual Char Dham yatra from May 14.\n",
      "\n",
      "https://thewire.in/health/uttarakhand-sharp-spike-covid-19-cases-char-dham-yatra-kumbh-mela …\n",
      "_________________________________\n",
      "Sentiments =>   Negative\n",
      "_________________________________\n",
      "---------------------------------------------------------\n",
      "Kumbh Mela was a super spreader  just like election rallies in WB which were purposefully allowed by GOI!!!! pic.twitter.com/Y6P86azfeK\n",
      "_________________________________\n",
      "Sentiments =>   Negative\n",
      "_________________________________\n",
      "---------------------------------------------------------\n",
      "This should have been biggest headline in India.\n",
      "\n",
      "Punjab covid fatality rate 2.4%, highest in India.\n",
      "\n",
      "No other state crossed even 1.5%\n",
      "\n",
      "Clear proof that \"farmer\" protest was biggest superspreader event.\n",
      "\n",
      "Not Kumbh mela, not BJP rallies, liberals spread the virus.\n",
      "_________________________________\n",
      "Sentiments =>   Negative\n",
      "_________________________________\n",
      "---------------------------------------------------------\n",
      "For Rahul ji \n",
      "\n",
      "Kumbh Mela = Corona positive \n",
      "\n",
      "Bengal rallies = Corona positive \n",
      "\n",
      "But \n",
      "\n",
      "Kisan andolan jeevis on Delhi borders & Punjab = Corona proof \n",
      "\n",
      "Rallies in Ajmer to demand beheading = Corona proof\n",
      "\n",
      "Funeral gathering for father of Mohd Saleh R’than minister = Corona proof pic.twitter.com/Z62IEEmLOT\n",
      "_________________________________\n",
      "Sentiments =>   Negative\n",
      "_________________________________\n",
      "---------------------------------------------------------\n",
      "Data proves beyond doubt that so called farmer protest was biggest superspreader in India.\n",
      "\n",
      "Punjab case fatality ratio 2.4%, highest in India.\n",
      "\n",
      "No other state, ruled by BJP/Cong, has reached even 1.5%.\n",
      "\n",
      "Not Kumbh mela, nor BJP rallies.\n",
      "\n",
      "Liberal farmers protest spread the virus.\n",
      "_________________________________\n",
      "Sentiments =>   Negative\n",
      "_________________________________\n",
      "---------------------------------------------------------\n",
      "first kumbh mela where the attendees might actually meet god\n",
      "_________________________________\n",
      "Sentiments =>   Negative\n",
      "_________________________________\n",
      "---------------------------------------------------------\n",
      "After nine straight days of 300,000+ Covid cases daily, India has now moved 400,00+. The US has banned travel from India; Australia will jail for 5 years if someone arrives from India. Only 7million had gone to Haridwar's Kumbh Mela in Apil to take a dip in the Ganges.\n",
      "_________________________________\n",
      "Sentiments =>   Negative\n",
      "_________________________________\n",
      "---------------------------------------------------------\n",
      "Vaccination was more important than election rallies and Kumbh mela...\n",
      "\n",
      "#WhereAreVaccinespic.twitter.com/IAp1KM8j0a\n",
      "_________________________________\n",
      "Sentiments =>   Negative\n",
      "_________________________________\n",
      "---------------------------------------------------------\n",
      "Poonawalla: “If I give you the right answer, or any answer, my head would be chopped off . . . I can’t comment on the elections or Kumbh Mela. It’s too sensitive.”\n",
      "\n",
      "Crazy ass story. Dude has run off to London to avoid intimidating calls. https://www.thetimes.co.uk/article/adar-poonawalla-aggression-over-covid-vaccines-is-overwhelming-everyone-expects-to-get-theirs-first-bfqbgcm96?utm_medium=Social&utm_source=Twitter#Echobox=1619853834 …\n",
      "_________________________________\n",
      "Sentiments =>   Negative\n",
      "_________________________________\n",
      "---------------------------------------------------------\n",
      "Germany cancels it’s Kumbh Mela. https://twitter.com/kniggem/status/1389210828637982725 …\n",
      "_________________________________\n",
      "Sentiments =>   Negative\n",
      "_________________________________\n",
      "---------------------------------------------------------\n",
      "IPL mai v koi KUMBH Mela/BJP ka rallies se gaya tha kya ??\n",
      "1 So Every1 plz wear mask at ur home\n",
      "2 Corona can go anywhere except hell\n",
      "3 Be neutral mode -No need act like politician.\n",
      "\n",
      "Stay Strong/ Pray/support  for those who r suffering.\n",
      "@PMOIndia @ANI \n",
      "CBI KNOWS WHO KILLED SUSHANT\n",
      "_________________________________\n",
      "Sentiments =>   Negative\n",
      "_________________________________\n",
      "---------------------------------------------------------\n",
      "Pic 1 : Today was last day of \"Shahi Snan\" at Kumbh Mela.\n",
      "\n",
      "Pic 2 : From Tomorrow \"Corona Curfew\" will be imposed in Haridwar.\n",
      "\n",
      "#Resign_PM_Modipic.twitter.com/nsv9MaQdFi\n",
      "_________________________________\n",
      "Sentiments =>   Negative\n",
      "_________________________________\n",
      "---------------------------------------------------------\n",
      "Look, @narendramodi, Germany has canceled its Kumbh Mela....\n",
      "\n",
      "#KumbhMela #Oktoberfesthttps://twitter.com/kniggem/status/1389210828637982725 …\n",
      "_________________________________\n",
      "Sentiments =>   Negative\n",
      "_________________________________\n",
      "---------------------------------------------------------\n",
      "Gigantic super spreader of the year #KumbhMela_CoronaHotspot\n",
      "#KumbhMela #COVID19pic.twitter.com/2MdEYnYIwj\n",
      "_________________________________\n",
      "Sentiments =>   Negative\n",
      "_________________________________\n",
      "---------------------------------------------------------\n",
      "Why is the Kumbh Mela universally blamed for the violent outbreak in India while the protests in the US were not responsible for a single case? Kumbh involved a lot less people. Yes, people come from everywhere and stay in crowded gueshouses, but there seems to be something else\n",
      "_________________________________\n",
      "Sentiments =>   Negative\n",
      "_________________________________\n",
      "---------------------------------------------------------\n",
      "Kumbh Mela has a 200-year long recorded history of aggravating epidemics of cholera.\n",
      "\n",
      "This year, during a furious spike in covid, millions of Indians were allowed to gather to bathe at Kumbh.\n",
      "\n",
      "Many of them returned home with Ganga jal and covid.\n",
      "\n",
      "My conversation with @France24_enhttps://twitter.com/France24_en/status/1387080624389820421 …\n",
      "_________________________________\n",
      "Sentiments =>   Negative\n",
      "_________________________________\n",
      "---------------------------------------------------------\n",
      "22 of the 83 people who returned after attending the Kumbh Mela went missing from the area.\n",
      "Of the remaining 61 who have been traced, 60 have tested positive for Covid-19.\n",
      "\n",
      "Covid scare grips Madhya Pradesh town as 22 Kumbh returnees go missing https://www.indiatoday.in/coronavirus-outbreak/story/covid-scare-madhya-pradesh-kumbh-returnees-missing-1796552-2021-04-30?utm_source=twshare&utm_medium=socialicons&utm_campaign=shareurltracking …\n",
      "_________________________________\n",
      "Sentiments =>   Negative\n",
      "_________________________________\n",
      "---------------------------------------------------------\n",
      "When Germany cancels its 'Kumbh Mela'..this happens in India. pic.twitter.com/7fSIrJp5vD\n",
      "_________________________________\n",
      "Sentiments =>   Negative\n",
      "_________________________________\n",
      "---------------------------------------------------------\n",
      "Covid spread like wild fire. Devotees take holy dips in the Ganges River during Kumbh Mela, or pitcher festival, one of the most sacred pilgrimages in Hinduism, on April 12, 2021, in Haridwar, northern state of Uttarakhand, India. pic.twitter.com/bNXxJFOS5W\n",
      "_________________________________\n",
      "Sentiments =>   Negative\n",
      "_________________________________\n",
      "---------------------------------------------------------\n"
     ]
    }
   ],
   "source": [
    "for index, row in ATweet.iterrows():\n",
    "    print(row['Tweets'])\n",
    "    print(\"_________________________________\")\n",
    "    print(\"Sentiments => \",end=\"  \")\n",
    "    if row['Predictions'] == 0 :\n",
    "        print(\"Negative\")\n",
    "    else:\n",
    "        print(\"Positive\")\n",
    "    print(\"_________________________________\")\n",
    "    print(\"---------------------------------------------------------\")"
   ]
  },
  {
   "cell_type": "code",
   "execution_count": 26,
   "metadata": {},
   "outputs": [
    {
     "name": "stdout",
     "output_type": "stream",
     "text": [
      "Tweet Analysis On Topic - Kumbh Mela in Covid\n",
      "Positive :  0.0 %\n",
      "Negative :  100.0 %\n"
     ]
    }
   ],
   "source": [
    "C = list(ATweet.isin([0]).sum())\n",
    "C = C[1]\n",
    "N = ATweet.shape[0]\n",
    "X1 = ((N-C)/N)*100 \n",
    "X0 = ((C)/N)*100\n",
    "print(\"Tweet Analysis On Topic - Kumbh Mela in Covid\")\n",
    "print(\"Positive : \",X1 ,\"%\")\n",
    "print(\"Negative : \",X0 ,\"%\")"
   ]
  },
  {
   "cell_type": "code",
   "execution_count": null,
   "metadata": {},
   "outputs": [],
   "source": []
  },
  {
   "cell_type": "code",
   "execution_count": null,
   "metadata": {},
   "outputs": [],
   "source": []
  }
 ],
 "metadata": {
  "kernelspec": {
   "display_name": "Python 3",
   "language": "python",
   "name": "python3"
  },
  "language_info": {
   "codemirror_mode": {
    "name": "ipython",
    "version": 3
   },
   "file_extension": ".py",
   "mimetype": "text/x-python",
   "name": "python",
   "nbconvert_exporter": "python",
   "pygments_lexer": "ipython3",
   "version": "3.7.6"
  }
 },
 "nbformat": 4,
 "nbformat_minor": 4
}
